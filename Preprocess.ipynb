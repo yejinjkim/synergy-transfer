{
 "cells": [
  {
   "cell_type": "code",
   "execution_count": 1,
   "metadata": {},
   "outputs": [],
   "source": [
    "import pandas as pd\n",
    "import numpy as np\n",
    "import pickle\n",
    "from utilities import Mapping"
   ]
  },
  {
   "cell_type": "code",
   "execution_count": 2,
   "metadata": {},
   "outputs": [],
   "source": [
    "import matplotlib.pyplot as plt\n",
    "from mpl_toolkits.mplot3d import Axes3D\n",
    "from matplotlib import cm\n",
    "\n",
    "import rdkit\n",
    "from rdkit import Chem\n",
    "from rdkit.Chem import MACCSkeys\n",
    "\n",
    "import re\n",
    "\n",
    "import seaborn as sns\n",
    "from matplotlib.colors import LogNorm\n",
    "import math\n"
   ]
  },
  {
   "cell_type": "code",
   "execution_count": 3,
   "metadata": {},
   "outputs": [],
   "source": [
    "data_path='data1.4/'\n",
    "external_data_path='data-external/'"
   ]
  },
  {
   "cell_type": "markdown",
   "metadata": {},
   "source": [
    "# Synergy score\n"
   ]
  },
  {
   "cell_type": "markdown",
   "metadata": {},
   "source": [
    "## 1. Load data"
   ]
  },
  {
   "cell_type": "markdown",
   "metadata": {},
   "source": [
    "Load synergy scores and link to study ID"
   ]
  },
  {
   "cell_type": "code",
   "execution_count": 4,
   "metadata": {},
   "outputs": [
    {
     "name": "stderr",
     "output_type": "stream",
     "text": [
      "/opt/conda/lib/python3.7/site-packages/IPython/core/interactiveshell.py:3058: DtypeWarning: Columns (2,5) have mixed types. Specify dtype option on import or set low_memory=False.\n",
      "  interactivity=interactivity, compiler=compiler, result=result)\n"
     ]
    }
   ],
   "source": [
    "summary=pd.read_csv(data_path+'summary_table_v1.4.csv')\n",
    "#Block to StudyID mapping\n",
    "source=pd.read_csv(data_path+'source.csv')\n",
    "\n",
    "summary_study=pd.merge(summary, source[['block_id', 'study_id']], how='left',left_on='block_id', right_on='block_id')"
   ]
  },
  {
   "cell_type": "code",
   "execution_count": 5,
   "metadata": {},
   "outputs": [
    {
     "data": {
      "text/html": [
       "<div>\n",
       "<style scoped>\n",
       "    .dataframe tbody tr th:only-of-type {\n",
       "        vertical-align: middle;\n",
       "    }\n",
       "\n",
       "    .dataframe tbody tr th {\n",
       "        vertical-align: top;\n",
       "    }\n",
       "\n",
       "    .dataframe thead th {\n",
       "        text-align: right;\n",
       "    }\n",
       "</style>\n",
       "<table border=\"1\" class=\"dataframe\">\n",
       "  <thead>\n",
       "    <tr style=\"text-align: right;\">\n",
       "      <th></th>\n",
       "      <th>block_id</th>\n",
       "      <th>drug_row</th>\n",
       "      <th>drug_col</th>\n",
       "      <th>cell_line_name</th>\n",
       "      <th>conc_r_unit</th>\n",
       "      <th>conc_c_unit</th>\n",
       "      <th>css</th>\n",
       "      <th>synergy_zip</th>\n",
       "      <th>synergy_bliss</th>\n",
       "      <th>synergy_loewe</th>\n",
       "      <th>synergy_hsa</th>\n",
       "      <th>ic50_row</th>\n",
       "      <th>ic50_col</th>\n",
       "      <th>ri_row</th>\n",
       "      <th>ri_col</th>\n",
       "      <th>css_row</th>\n",
       "      <th>css_col</th>\n",
       "      <th>S</th>\n",
       "      <th>study_id</th>\n",
       "    </tr>\n",
       "  </thead>\n",
       "  <tbody>\n",
       "    <tr>\n",
       "      <th>0</th>\n",
       "      <td>1</td>\n",
       "      <td>5-FU</td>\n",
       "      <td>ABT-888</td>\n",
       "      <td>A2058</td>\n",
       "      <td>uM</td>\n",
       "      <td>uM</td>\n",
       "      <td>30.869</td>\n",
       "      <td>3.865915</td>\n",
       "      <td>6.256584</td>\n",
       "      <td>-2.951386</td>\n",
       "      <td>5.536903</td>\n",
       "      <td>5.126836</td>\n",
       "      <td>3.267734</td>\n",
       "      <td>11.471</td>\n",
       "      <td>-0.441</td>\n",
       "      <td>22.545</td>\n",
       "      <td>39.193</td>\n",
       "      <td>19.839</td>\n",
       "      <td>1</td>\n",
       "    </tr>\n",
       "    <tr>\n",
       "      <th>1</th>\n",
       "      <td>2</td>\n",
       "      <td>5-FU</td>\n",
       "      <td>ABT-888</td>\n",
       "      <td>A2058</td>\n",
       "      <td>uM</td>\n",
       "      <td>uM</td>\n",
       "      <td>27.460</td>\n",
       "      <td>8.247403</td>\n",
       "      <td>12.333896</td>\n",
       "      <td>3.125927</td>\n",
       "      <td>11.614215</td>\n",
       "      <td>5.126836</td>\n",
       "      <td>3.267734</td>\n",
       "      <td>11.471</td>\n",
       "      <td>-0.441</td>\n",
       "      <td>24.135</td>\n",
       "      <td>30.785</td>\n",
       "      <td>16.430</td>\n",
       "      <td>1</td>\n",
       "    </tr>\n",
       "    <tr>\n",
       "      <th>2</th>\n",
       "      <td>3</td>\n",
       "      <td>5-FU</td>\n",
       "      <td>ABT-888</td>\n",
       "      <td>A2058</td>\n",
       "      <td>uM</td>\n",
       "      <td>uM</td>\n",
       "      <td>29.901</td>\n",
       "      <td>6.063440</td>\n",
       "      <td>11.660209</td>\n",
       "      <td>2.452239</td>\n",
       "      <td>10.940528</td>\n",
       "      <td>5.126836</td>\n",
       "      <td>3.267734</td>\n",
       "      <td>11.471</td>\n",
       "      <td>-0.441</td>\n",
       "      <td>25.561</td>\n",
       "      <td>34.241</td>\n",
       "      <td>18.871</td>\n",
       "      <td>1</td>\n",
       "    </tr>\n",
       "    <tr>\n",
       "      <th>3</th>\n",
       "      <td>4</td>\n",
       "      <td>5-FU</td>\n",
       "      <td>ABT-888</td>\n",
       "      <td>A2058</td>\n",
       "      <td>uM</td>\n",
       "      <td>uM</td>\n",
       "      <td>24.016</td>\n",
       "      <td>-4.280231</td>\n",
       "      <td>5.145209</td>\n",
       "      <td>-4.062761</td>\n",
       "      <td>4.425528</td>\n",
       "      <td>5.126836</td>\n",
       "      <td>3.267734</td>\n",
       "      <td>11.471</td>\n",
       "      <td>-0.441</td>\n",
       "      <td>16.661</td>\n",
       "      <td>31.371</td>\n",
       "      <td>12.986</td>\n",
       "      <td>1</td>\n",
       "    </tr>\n",
       "    <tr>\n",
       "      <th>4</th>\n",
       "      <td>5</td>\n",
       "      <td>5-FU</td>\n",
       "      <td>AZD1775</td>\n",
       "      <td>A2058</td>\n",
       "      <td>uM</td>\n",
       "      <td>uM</td>\n",
       "      <td>66.847</td>\n",
       "      <td>12.284698</td>\n",
       "      <td>15.765467</td>\n",
       "      <td>10.409407</td>\n",
       "      <td>18.656340</td>\n",
       "      <td>5.126836</td>\n",
       "      <td>0.266027</td>\n",
       "      <td>11.471</td>\n",
       "      <td>25.164</td>\n",
       "      <td>76.501</td>\n",
       "      <td>57.193</td>\n",
       "      <td>30.212</td>\n",
       "      <td>1</td>\n",
       "    </tr>\n",
       "  </tbody>\n",
       "</table>\n",
       "</div>"
      ],
      "text/plain": [
       "   block_id drug_row drug_col cell_line_name conc_r_unit conc_c_unit     css  \\\n",
       "0         1     5-FU  ABT-888          A2058          uM          uM  30.869   \n",
       "1         2     5-FU  ABT-888          A2058          uM          uM  27.460   \n",
       "2         3     5-FU  ABT-888          A2058          uM          uM  29.901   \n",
       "3         4     5-FU  ABT-888          A2058          uM          uM  24.016   \n",
       "4         5     5-FU  AZD1775          A2058          uM          uM  66.847   \n",
       "\n",
       "   synergy_zip  synergy_bliss  synergy_loewe  synergy_hsa  ic50_row  ic50_col  \\\n",
       "0     3.865915       6.256584      -2.951386     5.536903  5.126836  3.267734   \n",
       "1     8.247403      12.333896       3.125927    11.614215  5.126836  3.267734   \n",
       "2     6.063440      11.660209       2.452239    10.940528  5.126836  3.267734   \n",
       "3    -4.280231       5.145209      -4.062761     4.425528  5.126836  3.267734   \n",
       "4    12.284698      15.765467      10.409407    18.656340  5.126836  0.266027   \n",
       "\n",
       "   ri_row  ri_col  css_row  css_col       S  study_id  \n",
       "0  11.471  -0.441   22.545   39.193  19.839         1  \n",
       "1  11.471  -0.441   24.135   30.785  16.430         1  \n",
       "2  11.471  -0.441   25.561   34.241  18.871         1  \n",
       "3  11.471  -0.441   16.661   31.371  12.986         1  \n",
       "4  11.471  25.164   76.501   57.193  30.212         1  "
      ]
     },
     "execution_count": 5,
     "metadata": {},
     "output_type": "execute_result"
    }
   ],
   "source": [
    "summary_study.head()"
   ]
  },
  {
   "cell_type": "markdown",
   "metadata": {},
   "source": [
    "Multiple experimental blocks are averaged"
   ]
  },
  {
   "cell_type": "code",
   "execution_count": 6,
   "metadata": {},
   "outputs": [],
   "source": [
    "# take average of replicates experiments\n",
    "summary_mean= summary_study.groupby(['drug_row','drug_col','cell_line_name', 'study_id'], as_index=False).mean()\n",
    "summary_mean= summary_mean.loc[:, ['drug_row', 'drug_col', 'cell_line_name', 'study_id','ri_row', 'ri_col', 'synergy_loewe']]"
   ]
  },
  {
   "cell_type": "code",
   "execution_count": 7,
   "metadata": {},
   "outputs": [
    {
     "data": {
      "text/html": [
       "<div>\n",
       "<style scoped>\n",
       "    .dataframe tbody tr th:only-of-type {\n",
       "        vertical-align: middle;\n",
       "    }\n",
       "\n",
       "    .dataframe tbody tr th {\n",
       "        vertical-align: top;\n",
       "    }\n",
       "\n",
       "    .dataframe thead th {\n",
       "        text-align: right;\n",
       "    }\n",
       "</style>\n",
       "<table border=\"1\" class=\"dataframe\">\n",
       "  <thead>\n",
       "    <tr style=\"text-align: right;\">\n",
       "      <th></th>\n",
       "      <th>drug_row</th>\n",
       "      <th>drug_col</th>\n",
       "      <th>cell_line_name</th>\n",
       "      <th>study_id</th>\n",
       "      <th>ri_row</th>\n",
       "      <th>ri_col</th>\n",
       "      <th>synergy_loewe</th>\n",
       "    </tr>\n",
       "  </thead>\n",
       "  <tbody>\n",
       "    <tr>\n",
       "      <th>0</th>\n",
       "      <td>(+)-BICUCULLINE</td>\n",
       "      <td>TEMOZOLOMIDE</td>\n",
       "      <td>T98G</td>\n",
       "      <td>4</td>\n",
       "      <td>-21.0794</td>\n",
       "      <td>17.392589</td>\n",
       "      <td>4.436431</td>\n",
       "    </tr>\n",
       "    <tr>\n",
       "      <th>1</th>\n",
       "      <td>(+)-Blebbistatin</td>\n",
       "      <td>(+)-JQ1</td>\n",
       "      <td>TMD8</td>\n",
       "      <td>6</td>\n",
       "      <td>-20.0430</td>\n",
       "      <td>25.595000</td>\n",
       "      <td>-44.555935</td>\n",
       "    </tr>\n",
       "    <tr>\n",
       "      <th>2</th>\n",
       "      <td>(+)-Blebbistatin</td>\n",
       "      <td>IBRUTINIB (PCI-32765)</td>\n",
       "      <td>TMD8</td>\n",
       "      <td>6</td>\n",
       "      <td>-9.7760</td>\n",
       "      <td>29.111000</td>\n",
       "      <td>-37.189720</td>\n",
       "    </tr>\n",
       "    <tr>\n",
       "      <th>3</th>\n",
       "      <td>(+)-JQ1</td>\n",
       "      <td>(+)-JQ1</td>\n",
       "      <td>RD</td>\n",
       "      <td>12</td>\n",
       "      <td>6.7970</td>\n",
       "      <td>6.964000</td>\n",
       "      <td>1.283298</td>\n",
       "    </tr>\n",
       "    <tr>\n",
       "      <th>4</th>\n",
       "      <td>(+)-JQ1</td>\n",
       "      <td>(+)-JQ1</td>\n",
       "      <td>SMS-CTR</td>\n",
       "      <td>12</td>\n",
       "      <td>11.5280</td>\n",
       "      <td>7.190000</td>\n",
       "      <td>-3.028745</td>\n",
       "    </tr>\n",
       "  </tbody>\n",
       "</table>\n",
       "</div>"
      ],
      "text/plain": [
       "           drug_row               drug_col cell_line_name  study_id   ri_row  \\\n",
       "0   (+)-BICUCULLINE           TEMOZOLOMIDE           T98G         4 -21.0794   \n",
       "1  (+)-Blebbistatin                (+)-JQ1           TMD8         6 -20.0430   \n",
       "2  (+)-Blebbistatin  IBRUTINIB (PCI-32765)           TMD8         6  -9.7760   \n",
       "3           (+)-JQ1                (+)-JQ1             RD        12   6.7970   \n",
       "4           (+)-JQ1                (+)-JQ1        SMS-CTR        12  11.5280   \n",
       "\n",
       "      ri_col  synergy_loewe  \n",
       "0  17.392589       4.436431  \n",
       "1  25.595000     -44.555935  \n",
       "2  29.111000     -37.189720  \n",
       "3   6.964000       1.283298  \n",
       "4   7.190000      -3.028745  "
      ]
     },
     "execution_count": 7,
     "metadata": {},
     "output_type": "execute_result"
    }
   ],
   "source": [
    "summary_mean.head()"
   ]
  },
  {
   "cell_type": "markdown",
   "metadata": {},
   "source": [
    "## 2. Data exploratory analysis with visualization"
   ]
  },
  {
   "cell_type": "markdown",
   "metadata": {},
   "source": [
    "Plot relative inhibition vs Loewe synergy "
   ]
  },
  {
   "cell_type": "code",
   "execution_count": 8,
   "metadata": {},
   "outputs": [],
   "source": [
    "sensitivity=pd.concat([summary_mean.loc[:, ['drug_row', 'cell_line_name', 'ri_row']].rename(columns={'drug_row':'drug', 'ri_row':'ri'}),\n",
    "          summary_mean.loc[:, ['drug_col', 'cell_line_name', 'ri_col']].rename(columns={'drug_col':'drug', 'ri_col':'ri'})])\n"
   ]
  },
  {
   "cell_type": "code",
   "execution_count": 9,
   "metadata": {},
   "outputs": [
    {
     "data": {
      "text/plain": [
       "Text(0, 0.5, 'counts')"
      ]
     },
     "execution_count": 9,
     "metadata": {},
     "output_type": "execute_result"
    },
    {
     "data": {
      "image/png": "[encoded data removed]",
      "text/plain": [
       "<Figure size 432x288 with 1 Axes>"
      ]
     },
     "metadata": {
      "needs_background": "light"
     },
     "output_type": "display_data"
    }
   ],
   "source": [
    "plt.hist(sensitivity['ri'], bins=20, range=[-100,100])\n",
    "plt.xlabel(\"Relative inhibition (monotherapy sensitivity)\")\n",
    "plt.ylabel(\"counts\")\n",
    "#plt.savefig(data_path+'ri_cnt.png',  bbox_inches='tight', dpi=200)"
   ]
  },
  {
   "cell_type": "code",
   "execution_count": 10,
   "metadata": {},
   "outputs": [
    {
     "data": {
      "text/plain": [
       "Text(0, 0.5, 'counts')"
      ]
     },
     "execution_count": 10,
     "metadata": {},
     "output_type": "execute_result"
    },
    {
     "data": {
      "image/png": "[encoded data removed]",
      "text/plain": [
       "<Figure size 432x288 with 1 Axes>"
      ]
     },
     "metadata": {
      "needs_background": "light"
     },
     "output_type": "display_data"
    }
   ],
   "source": [
    "plt.hist(((summary_mean.loc[:,'synergy_loewe'].values.reshape(-1))), range=[-100, 75])\n",
    "plt.xlabel(\"Loewe synergy\")\n",
    "plt.ylabel(\"counts\")\n",
    "#plt.savefig(data_path+'syn_cnt.png', bbox_inches='tight', dpi=200)"
   ]
  },
  {
   "cell_type": "code",
   "execution_count": 11,
   "metadata": {},
   "outputs": [
    {
     "data": {
      "text/plain": [
       "<mpl_toolkits.mplot3d.art3d.Poly3DCollection at 0x7fccb4bfff50>"
      ]
     },
     "execution_count": 11,
     "metadata": {},
     "output_type": "execute_result"
    },
    {
     "data": {
      "image/png": "[encoded data removed]",
      "text/plain": [
       "<Figure size 432x288 with 1 Axes>"
      ]
     },
     "metadata": {
      "needs_background": "light"
     },
     "output_type": "display_data"
    }
   ],
   "source": [
    "X=summary_mean.loc[:,'ri_row'].to_numpy()\n",
    "Y=summary_mean.loc[:,'ri_col'].to_numpy()\n",
    "Z=summary_mean.loc[:,'synergy_loewe'].to_numpy()\n",
    "\n",
    "fig = plt.figure()\n",
    "ax = fig.gca(projection='3d')\n",
    "ax.plot_trisurf(X,Y,Z)\n",
    "\n",
    "ax.set_xlabel('Drug1 relative inhibition')\n",
    "ax.set_ylabel('Durg2 relative inhibition')\n",
    "ax.set_zlabel('Synergy')\n",
    "ax.set_xlim(-100, 100)\n",
    "ax.set_ylim(-100, 100)\n",
    "#fig.savefig(data_path+'ri_synergy_3d.png', dpi=200)"
   ]
  },
  {
   "cell_type": "markdown",
   "metadata": {},
   "source": [
    "Transform items to ID"
   ]
  },
  {
   "cell_type": "code",
   "execution_count": 8,
   "metadata": {},
   "outputs": [],
   "source": [
    "codes={'drugs': Mapping(set(summary_mean['drug_row'].unique()).union(set(summary_mean['drug_col'].unique()))),\n",
    "      'cell':Mapping(summary_mean['cell_line_name'].unique())}"
   ]
  },
  {
   "cell_type": "code",
   "execution_count": 38,
   "metadata": {},
   "outputs": [],
   "source": [
    "summary_mean['drug_col']=summary_mean['drug_col'].apply(lambda x: codes['drugs'].item2idx[x])\n",
    "summary_mean['drug_row']=summary_mean['drug_row'].apply(lambda x: codes['drugs'].item2idx[x])\n",
    "summary_mean['cell_line_name']=summary_mean['cell_line_name'].apply(lambda x: codes['cell'].item2idx[x])"
   ]
  },
  {
   "cell_type": "code",
   "execution_count": 10,
   "metadata": {},
   "outputs": [
    {
     "data": {
      "text/html": [
       "<div>\n",
       "<style scoped>\n",
       "    .dataframe tbody tr th:only-of-type {\n",
       "        vertical-align: middle;\n",
       "    }\n",
       "\n",
       "    .dataframe tbody tr th {\n",
       "        vertical-align: top;\n",
       "    }\n",
       "\n",
       "    .dataframe thead th {\n",
       "        text-align: right;\n",
       "    }\n",
       "</style>\n",
       "<table border=\"1\" class=\"dataframe\">\n",
       "  <thead>\n",
       "    <tr style=\"text-align: right;\">\n",
       "      <th></th>\n",
       "      <th>drug_row</th>\n",
       "      <th>drug_col</th>\n",
       "      <th>cell_line_name</th>\n",
       "      <th>ri_row</th>\n",
       "      <th>ri_col</th>\n",
       "      <th>synergy_loewe</th>\n",
       "    </tr>\n",
       "  </thead>\n",
       "  <tbody>\n",
       "    <tr>\n",
       "      <th>0</th>\n",
       "      <td>1433</td>\n",
       "      <td>4127</td>\n",
       "      <td>0</td>\n",
       "      <td>-21.0794</td>\n",
       "      <td>17.392589</td>\n",
       "      <td>4.436431</td>\n",
       "    </tr>\n",
       "    <tr>\n",
       "      <th>1</th>\n",
       "      <td>1998</td>\n",
       "      <td>2848</td>\n",
       "      <td>1</td>\n",
       "      <td>-20.0430</td>\n",
       "      <td>25.595000</td>\n",
       "      <td>-44.555935</td>\n",
       "    </tr>\n",
       "    <tr>\n",
       "      <th>2</th>\n",
       "      <td>1998</td>\n",
       "      <td>2720</td>\n",
       "      <td>1</td>\n",
       "      <td>-9.7760</td>\n",
       "      <td>29.111000</td>\n",
       "      <td>-37.189720</td>\n",
       "    </tr>\n",
       "    <tr>\n",
       "      <th>3</th>\n",
       "      <td>2848</td>\n",
       "      <td>2848</td>\n",
       "      <td>2</td>\n",
       "      <td>6.7970</td>\n",
       "      <td>6.964000</td>\n",
       "      <td>1.283298</td>\n",
       "    </tr>\n",
       "    <tr>\n",
       "      <th>4</th>\n",
       "      <td>2848</td>\n",
       "      <td>2848</td>\n",
       "      <td>3</td>\n",
       "      <td>11.5280</td>\n",
       "      <td>7.190000</td>\n",
       "      <td>-3.028745</td>\n",
       "    </tr>\n",
       "  </tbody>\n",
       "</table>\n",
       "</div>"
      ],
      "text/plain": [
       "   drug_row  drug_col  cell_line_name   ri_row     ri_col  synergy_loewe\n",
       "0      1433      4127               0 -21.0794  17.392589       4.436431\n",
       "1      1998      2848               1 -20.0430  25.595000     -44.555935\n",
       "2      1998      2720               1  -9.7760  29.111000     -37.189720\n",
       "3      2848      2848               2   6.7970   6.964000       1.283298\n",
       "4      2848      2848               3  11.5280   7.190000      -3.028745"
      ]
     },
     "execution_count": 10,
     "metadata": {},
     "output_type": "execute_result"
    }
   ],
   "source": [
    "summary_mean.head()"
   ]
  },
  {
   "cell_type": "code",
   "execution_count": 40,
   "metadata": {},
   "outputs": [],
   "source": [
    "summary_mean.to_pickle(data_path+'summary_mean.p')"
   ]
  },
  {
   "cell_type": "markdown",
   "metadata": {},
   "source": [
    "# Drug's molescule structure"
   ]
  },
  {
   "cell_type": "code",
   "execution_count": null,
   "metadata": {},
   "outputs": [],
   "source": [
    "#FILTERING and ERROR CORRECTION\n",
    "drug=pd.read_csv(data_path+'drug.csv')\n",
    "drug.drop('id', axis=1, inplace=True)\n",
    "drug['id']=drug['dname'].apply(lambda x: codes['drugs'].item2idx.get(x))\n",
    "drug=drug.loc[~drug['id'].isna(),:]\n",
    "\n",
    "drug.loc[drug['cid']==57519530,'smiles']='CC(C)CC1C(=O)NC(C(=O)NC(CCCC=CCCCCCCC(C(=O)NC(C(=O)NC(C(=O)NC(C(=O)NC(C(=O)N1)CCCNC(=N)N)CC2=CNC3=CC=CC=C32)CC(C)C)CC(=O)N)(C)NC(=O)C(CC4=CC=CC=C4)NC(=O)C(C(C)O)NC(=O)C(CCC(=O)N)NC(=O)C(CCC(=O)N)NC(=O)C(CO)NC(=O)C(CCC(=O)N)NC(=O)CCNC(=O)C)(C)C(=O)NC(CCC(=O)N)C(=O)NC(CC(=O)N)C(=O)N)CC(C)C'\n",
    "drug.loc[drug['cid']==73265323,'smiles']='CC(C)CCCCCCCC(=O)NC1C(C(C(OC1OC2=C3C=C4C=C2OC5=C(C=C(C=C5)C(C6C(=O)NC(C7=C(C(=CC(=C7)O)OC8C(C(C(C(O8)CO)O)O)O)C9=C(C=CC(=C9)C(C(=O)N6)NC(=O)C4NC(=O)C1C2=CC(=CC(=C2)OC2=C(C=CC(=C2)C(C(=O)NC(CC2=CC(=C(O3)C=C2)Cl)C(=O)N1)N)O)O)O)C(=O)O)OC1C(C(C(C(O1)CO)O)O)NC(=O)C)Cl)CO)O)O'\n",
    "drug.loc[drug['cid']==16131923,'smiles']='CCCCCCCCCC(=O)NC1C(C(C(OC1OC2=C3C=C4C=C2OC5=C(C=C(C=C5)C(C6C(=O)NC(C7=C(C(=CC(=C7)O)OC8C(C(C(C(O8)CO)O)O)O)C9=C(C=CC(=C9)C(C(=O)N6)NC(=O)C4NC(=O)C1C2=CC(=CC(=C2)OC2=C(C=CC(=C2)C(C(=O)NC(CC2=CC(=C(O3)C=C2)Cl)C(=O)N1)N)O)O)O)C(=O)O)OC1C(C(C(C(O1)CO)O)O)NC(=O)C)Cl)CO)O)O'\n",
    "\n",
    "drug.to_csv(data_path+'drug_clean.csv',index=False)"
   ]
  },
  {
   "cell_type": "code",
   "execution_count": null,
   "metadata": {
    "scrolled": true
   },
   "outputs": [],
   "source": [
    "#GET MACCS FINGERPRINT\n",
    "drug=pd.read_csv(data_path+'drug_clean.csv')\n",
    "drug['fps']=drug['smiles'].apply(lambda x: list(MACCSkeys.GenMACCSKeys(Chem.MolFromSmiles(x))) if Chem.MolFromSmiles(x) is not None else '')\n",
    "\n",
    "drug.to_pickle(data_path+'drug_clean_fp.p')"
   ]
  },
  {
   "cell_type": "code",
   "execution_count": 30,
   "metadata": {},
   "outputs": [],
   "source": [
    "drug=pickle.load(open(data_path+'drug_clean_fp.p', 'rb'))\n",
    "drug['id']=drug['id'].apply(lambda x: int(x))"
   ]
  },
  {
   "cell_type": "code",
   "execution_count": 31,
   "metadata": {},
   "outputs": [
    {
     "data": {
      "text/html": [
       "<div>\n",
       "<style scoped>\n",
       "    .dataframe tbody tr th:only-of-type {\n",
       "        vertical-align: middle;\n",
       "    }\n",
       "\n",
       "    .dataframe tbody tr th {\n",
       "        vertical-align: top;\n",
       "    }\n",
       "\n",
       "    .dataframe thead th {\n",
       "        text-align: right;\n",
       "    }\n",
       "</style>\n",
       "<table border=\"1\" class=\"dataframe\">\n",
       "  <thead>\n",
       "    <tr style=\"text-align: right;\">\n",
       "      <th></th>\n",
       "      <th>dname</th>\n",
       "      <th>chembl_id</th>\n",
       "      <th>inchikey</th>\n",
       "      <th>smiles</th>\n",
       "      <th>cid</th>\n",
       "      <th>molecular_formula</th>\n",
       "      <th>clinical_phase</th>\n",
       "      <th>cid_m</th>\n",
       "      <th>cid_s</th>\n",
       "      <th>stitch_name</th>\n",
       "      <th>drugbank_id</th>\n",
       "      <th>kegg_id</th>\n",
       "      <th>id</th>\n",
       "      <th>fps</th>\n",
       "    </tr>\n",
       "  </thead>\n",
       "  <tbody>\n",
       "    <tr>\n",
       "      <th>0</th>\n",
       "      <td>5-FU</td>\n",
       "      <td>CHEMBL185</td>\n",
       "      <td>GHASVSINZRGABV-UHFFFAOYSA-N</td>\n",
       "      <td>C1=C(C(=O)NC(=O)N1)F</td>\n",
       "      <td>3385</td>\n",
       "      <td>C4H3FN2O2</td>\n",
       "      <td>4</td>\n",
       "      <td>CIDm00003385</td>\n",
       "      <td>CIDs00003385</td>\n",
       "      <td>5-fluorouracil</td>\n",
       "      <td>DB00544</td>\n",
       "      <td>D00584</td>\n",
       "      <td>2685</td>\n",
       "      <td>[0, 0, 0, 0, 0, 0, 0, 0, 0, 0, 0, 0, 0, 0, 0, ...</td>\n",
       "    </tr>\n",
       "    <tr>\n",
       "      <th>1</th>\n",
       "      <td>ABT-888</td>\n",
       "      <td>CHEMBL506871</td>\n",
       "      <td>JNAHVYVRKWKWKQ-CYBMUJFWSA-N</td>\n",
       "      <td>CC1(CCCN1)C2=NC3=C(C=CC=C3N2)C(=O)N</td>\n",
       "      <td>11960529</td>\n",
       "      <td>C13H16N4O</td>\n",
       "      <td>3</td>\n",
       "      <td>CIDm11842604</td>\n",
       "      <td>CIDs11960529</td>\n",
       "      <td>veliparib</td>\n",
       "      <td>DB07232</td>\n",
       "      <td>D09692</td>\n",
       "      <td>3018</td>\n",
       "      <td>[0, 0, 0, 0, 0, 0, 0, 0, 0, 0, 0, 0, 0, 0, 0, ...</td>\n",
       "    </tr>\n",
       "    <tr>\n",
       "      <th>2</th>\n",
       "      <td>AZD1775</td>\n",
       "      <td>CHEMBL1976040</td>\n",
       "      <td>BKWJAKQVGHWELA-UHFFFAOYSA-N</td>\n",
       "      <td>CC(C)(C1=NC(=CC=C1)N2C3=NC(=NC=C3C(=O)N2CC=C)N...</td>\n",
       "      <td>24856436</td>\n",
       "      <td>C27H32N8O2</td>\n",
       "      <td>2</td>\n",
       "      <td>CIDm24856436</td>\n",
       "      <td>CIDs24856436</td>\n",
       "      <td>MK-1775</td>\n",
       "      <td>DB11740</td>\n",
       "      <td>NaN</td>\n",
       "      <td>307</td>\n",
       "      <td>[0, 0, 0, 0, 0, 0, 0, 0, 0, 0, 0, 0, 0, 0, 0, ...</td>\n",
       "    </tr>\n",
       "    <tr>\n",
       "      <th>3</th>\n",
       "      <td>BEZ-235</td>\n",
       "      <td>CHEMBL1879463</td>\n",
       "      <td>JOGKUKXHTYWRGZ-UHFFFAOYSA-N</td>\n",
       "      <td>CC(C)(C#N)C1=CC=C(C=C1)N2C3=C4C=C(C=CC4=NC=C3N...</td>\n",
       "      <td>11977753</td>\n",
       "      <td>C30H23N5O</td>\n",
       "      <td>2</td>\n",
       "      <td>CIDm11977753</td>\n",
       "      <td>CIDs11977753</td>\n",
       "      <td>NVP-BEZ235</td>\n",
       "      <td>DB11651</td>\n",
       "      <td>D10552</td>\n",
       "      <td>2217</td>\n",
       "      <td>[0, 0, 0, 0, 0, 0, 0, 0, 0, 0, 0, 0, 0, 0, 0, ...</td>\n",
       "    </tr>\n",
       "    <tr>\n",
       "      <th>4</th>\n",
       "      <td>BORTEZOMIB</td>\n",
       "      <td>CHEMBL325041</td>\n",
       "      <td>GXJABQQUPOEUTA-RDJZCZTQSA-N</td>\n",
       "      <td>B(C(CC(C)C)NC(=O)C(CC1=CC=CC=C1)NC(=O)C2=NC=CN...</td>\n",
       "      <td>387447</td>\n",
       "      <td>C19H25BN4O4</td>\n",
       "      <td>4</td>\n",
       "      <td>CIDm00093860</td>\n",
       "      <td>CIDs00387447</td>\n",
       "      <td>bortezomib</td>\n",
       "      <td>DB00188</td>\n",
       "      <td>D03150</td>\n",
       "      <td>3957</td>\n",
       "      <td>[0, 0, 0, 0, 0, 0, 0, 0, 0, 0, 0, 0, 0, 0, 0, ...</td>\n",
       "    </tr>\n",
       "    <tr>\n",
       "      <th>...</th>\n",
       "      <td>...</td>\n",
       "      <td>...</td>\n",
       "      <td>...</td>\n",
       "      <td>...</td>\n",
       "      <td>...</td>\n",
       "      <td>...</td>\n",
       "      <td>...</td>\n",
       "      <td>...</td>\n",
       "      <td>...</td>\n",
       "      <td>...</td>\n",
       "      <td>...</td>\n",
       "      <td>...</td>\n",
       "      <td>...</td>\n",
       "      <td>...</td>\n",
       "    </tr>\n",
       "    <tr>\n",
       "      <th>4197</th>\n",
       "      <td>BMS-536924</td>\n",
       "      <td>CHEMBL401930</td>\n",
       "      <td>ZWVZORIKUNOTCS-OAQYLSRUSA-N</td>\n",
       "      <td>CC1=CC(=CC2=C1N=C(N2)C3=C(C=CNC3=O)NCC(C4=CC(=...</td>\n",
       "      <td>135440466</td>\n",
       "      <td>C25H26ClN5O3</td>\n",
       "      <td>0</td>\n",
       "      <td>NaN</td>\n",
       "      <td>NaN</td>\n",
       "      <td>NaN</td>\n",
       "      <td>NaN</td>\n",
       "      <td>NaN</td>\n",
       "      <td>111</td>\n",
       "      <td>[0, 0, 0, 0, 0, 0, 0, 0, 0, 0, 0, 0, 0, 0, 0, ...</td>\n",
       "    </tr>\n",
       "    <tr>\n",
       "      <th>4198</th>\n",
       "      <td>56990-57-9</td>\n",
       "      <td>CHEMBL1208151</td>\n",
       "      <td>XGMFVZOKHBRUTL-UHFFFAOYSA-N</td>\n",
       "      <td>C1=CC2=C(C=C(C(=C2N=C1)O)N=NC3=CC4=C(C=C3)C=C(...</td>\n",
       "      <td>92577</td>\n",
       "      <td>C19H13N3O7S2</td>\n",
       "      <td>0</td>\n",
       "      <td>NaN</td>\n",
       "      <td>NaN</td>\n",
       "      <td>NaN</td>\n",
       "      <td>NaN</td>\n",
       "      <td>NaN</td>\n",
       "      <td>1750</td>\n",
       "      <td>[0, 0, 0, 0, 0, 0, 0, 0, 0, 0, 0, 0, 0, 0, 0, ...</td>\n",
       "    </tr>\n",
       "    <tr>\n",
       "      <th>4199</th>\n",
       "      <td>405554-55-4</td>\n",
       "      <td>CHEMBL1891617</td>\n",
       "      <td>MLSAQOINCGAULQ-UHFFFAOYSA-N</td>\n",
       "      <td>CN(C)CCOC1=CC=C(C=C1)C2=NC(=C(N2)C3=CC=NC=C3)C...</td>\n",
       "      <td>135564599</td>\n",
       "      <td>C27H27N5O2</td>\n",
       "      <td>0</td>\n",
       "      <td>NaN</td>\n",
       "      <td>NaN</td>\n",
       "      <td>NaN</td>\n",
       "      <td>NaN</td>\n",
       "      <td>NaN</td>\n",
       "      <td>979</td>\n",
       "      <td>[0, 0, 0, 0, 0, 0, 0, 0, 0, 0, 0, 0, 0, 0, 0, ...</td>\n",
       "    </tr>\n",
       "    <tr>\n",
       "      <th>4200</th>\n",
       "      <td>Talazoparib</td>\n",
       "      <td>CHEMBL3137320</td>\n",
       "      <td>HWGQMRYQVZSGDQ-HZPDHXFCSA-N</td>\n",
       "      <td>CN1C(=NC=N1)C2C(NC3=CC(=CC4=C3C2=NNC4=O)F)C5=C...</td>\n",
       "      <td>135565082</td>\n",
       "      <td>C19H14F2N6O</td>\n",
       "      <td>3</td>\n",
       "      <td>NaN</td>\n",
       "      <td>NaN</td>\n",
       "      <td>NaN</td>\n",
       "      <td>DB11760</td>\n",
       "      <td>NaN</td>\n",
       "      <td>4025</td>\n",
       "      <td>[0, 0, 0, 0, 0, 0, 0, 0, 0, 0, 0, 0, 0, 0, 0, ...</td>\n",
       "    </tr>\n",
       "    <tr>\n",
       "      <th>4201</th>\n",
       "      <td>Dovitinib</td>\n",
       "      <td>CHEMBL522892</td>\n",
       "      <td>PIQCTGMSNWUMAF-UHFFFAOYSA-N</td>\n",
       "      <td>CN1CCN(CC1)C2=CC3=C(C=C2)N=C(N3)C4=C(C5=C(C=CC...</td>\n",
       "      <td>135398510</td>\n",
       "      <td>C21H21FN6O</td>\n",
       "      <td>3</td>\n",
       "      <td>NaN</td>\n",
       "      <td>NaN</td>\n",
       "      <td>NaN</td>\n",
       "      <td>DB05928</td>\n",
       "      <td>NaN</td>\n",
       "      <td>3222</td>\n",
       "      <td>[0, 0, 0, 0, 0, 0, 0, 0, 0, 0, 0, 0, 0, 0, 0, ...</td>\n",
       "    </tr>\n",
       "  </tbody>\n",
       "</table>\n",
       "<p>4202 rows × 14 columns</p>\n",
       "</div>"
      ],
      "text/plain": [
       "            dname      chembl_id                     inchikey  \\\n",
       "0            5-FU      CHEMBL185  GHASVSINZRGABV-UHFFFAOYSA-N   \n",
       "1         ABT-888   CHEMBL506871  JNAHVYVRKWKWKQ-CYBMUJFWSA-N   \n",
       "2         AZD1775  CHEMBL1976040  BKWJAKQVGHWELA-UHFFFAOYSA-N   \n",
       "3         BEZ-235  CHEMBL1879463  JOGKUKXHTYWRGZ-UHFFFAOYSA-N   \n",
       "4      BORTEZOMIB   CHEMBL325041  GXJABQQUPOEUTA-RDJZCZTQSA-N   \n",
       "...           ...            ...                          ...   \n",
       "4197   BMS-536924   CHEMBL401930  ZWVZORIKUNOTCS-OAQYLSRUSA-N   \n",
       "4198   56990-57-9  CHEMBL1208151  XGMFVZOKHBRUTL-UHFFFAOYSA-N   \n",
       "4199  405554-55-4  CHEMBL1891617  MLSAQOINCGAULQ-UHFFFAOYSA-N   \n",
       "4200  Talazoparib  CHEMBL3137320  HWGQMRYQVZSGDQ-HZPDHXFCSA-N   \n",
       "4201    Dovitinib   CHEMBL522892  PIQCTGMSNWUMAF-UHFFFAOYSA-N   \n",
       "\n",
       "                                                 smiles        cid  \\\n",
       "0                                  C1=C(C(=O)NC(=O)N1)F       3385   \n",
       "1                   CC1(CCCN1)C2=NC3=C(C=CC=C3N2)C(=O)N   11960529   \n",
       "2     CC(C)(C1=NC(=CC=C1)N2C3=NC(=NC=C3C(=O)N2CC=C)N...   24856436   \n",
       "3     CC(C)(C#N)C1=CC=C(C=C1)N2C3=C4C=C(C=CC4=NC=C3N...   11977753   \n",
       "4     B(C(CC(C)C)NC(=O)C(CC1=CC=CC=C1)NC(=O)C2=NC=CN...     387447   \n",
       "...                                                 ...        ...   \n",
       "4197  CC1=CC(=CC2=C1N=C(N2)C3=C(C=CNC3=O)NCC(C4=CC(=...  135440466   \n",
       "4198  C1=CC2=C(C=C(C(=C2N=C1)O)N=NC3=CC4=C(C=C3)C=C(...      92577   \n",
       "4199  CN(C)CCOC1=CC=C(C=C1)C2=NC(=C(N2)C3=CC=NC=C3)C...  135564599   \n",
       "4200  CN1C(=NC=N1)C2C(NC3=CC(=CC4=C3C2=NNC4=O)F)C5=C...  135565082   \n",
       "4201  CN1CCN(CC1)C2=CC3=C(C=C2)N=C(N3)C4=C(C5=C(C=CC...  135398510   \n",
       "\n",
       "     molecular_formula  clinical_phase         cid_m         cid_s  \\\n",
       "0            C4H3FN2O2               4  CIDm00003385  CIDs00003385   \n",
       "1            C13H16N4O               3  CIDm11842604  CIDs11960529   \n",
       "2           C27H32N8O2               2  CIDm24856436  CIDs24856436   \n",
       "3            C30H23N5O               2  CIDm11977753  CIDs11977753   \n",
       "4          C19H25BN4O4               4  CIDm00093860  CIDs00387447   \n",
       "...                ...             ...           ...           ...   \n",
       "4197      C25H26ClN5O3               0           NaN           NaN   \n",
       "4198      C19H13N3O7S2               0           NaN           NaN   \n",
       "4199        C27H27N5O2               0           NaN           NaN   \n",
       "4200       C19H14F2N6O               3           NaN           NaN   \n",
       "4201        C21H21FN6O               3           NaN           NaN   \n",
       "\n",
       "         stitch_name drugbank_id kegg_id    id  \\\n",
       "0     5-fluorouracil     DB00544  D00584  2685   \n",
       "1          veliparib     DB07232  D09692  3018   \n",
       "2            MK-1775     DB11740     NaN   307   \n",
       "3         NVP-BEZ235     DB11651  D10552  2217   \n",
       "4         bortezomib     DB00188  D03150  3957   \n",
       "...              ...         ...     ...   ...   \n",
       "4197             NaN         NaN     NaN   111   \n",
       "4198             NaN         NaN     NaN  1750   \n",
       "4199             NaN         NaN     NaN   979   \n",
       "4200             NaN     DB11760     NaN  4025   \n",
       "4201             NaN     DB05928     NaN  3222   \n",
       "\n",
       "                                                    fps  \n",
       "0     [0, 0, 0, 0, 0, 0, 0, 0, 0, 0, 0, 0, 0, 0, 0, ...  \n",
       "1     [0, 0, 0, 0, 0, 0, 0, 0, 0, 0, 0, 0, 0, 0, 0, ...  \n",
       "2     [0, 0, 0, 0, 0, 0, 0, 0, 0, 0, 0, 0, 0, 0, 0, ...  \n",
       "3     [0, 0, 0, 0, 0, 0, 0, 0, 0, 0, 0, 0, 0, 0, 0, ...  \n",
       "4     [0, 0, 0, 0, 0, 0, 0, 0, 0, 0, 0, 0, 0, 0, 0, ...  \n",
       "...                                                 ...  \n",
       "4197  [0, 0, 0, 0, 0, 0, 0, 0, 0, 0, 0, 0, 0, 0, 0, ...  \n",
       "4198  [0, 0, 0, 0, 0, 0, 0, 0, 0, 0, 0, 0, 0, 0, 0, ...  \n",
       "4199  [0, 0, 0, 0, 0, 0, 0, 0, 0, 0, 0, 0, 0, 0, 0, ...  \n",
       "4200  [0, 0, 0, 0, 0, 0, 0, 0, 0, 0, 0, 0, 0, 0, 0, ...  \n",
       "4201  [0, 0, 0, 0, 0, 0, 0, 0, 0, 0, 0, 0, 0, 0, 0, ...  \n",
       "\n",
       "[4202 rows x 14 columns]"
      ]
     },
     "execution_count": 31,
     "metadata": {},
     "output_type": "execute_result"
    }
   ],
   "source": [
    "drug"
   ]
  },
  {
   "cell_type": "code",
   "execution_count": 14,
   "metadata": {},
   "outputs": [],
   "source": [
    "#Convert SMILES's character into index\n",
    "seqs=drug['smiles'].to_list()\n",
    "chars=set([char for seq in seqs for char in seq])\n",
    "chars = ['']+list(chars) #for zero embedding\n",
    "codes['mole']=Mapping(chars)\n",
    "drug['smiles']=drug['smiles'].apply(lambda x : [codes['mole'].item2idx[char] for char in x])\n"
   ]
  },
  {
   "cell_type": "markdown",
   "metadata": {},
   "source": [
    "# Drug's target gene"
   ]
  },
  {
   "cell_type": "code",
   "execution_count": 15,
   "metadata": {},
   "outputs": [],
   "source": [
    "#Merge target genes from DrugBank\n",
    "drug_DrugBank_target=pd.read_csv(external_data_path+'drug/drug_DrugBank_target.csv')\n",
    "drug_DrugBank_target=drug_DrugBank_target[['Gene', 'drugbank_id']].groupby('drugbank_id').agg(lambda x: set(x)).applymap(list).reset_index()\n",
    "drug=pd.merge(drug, drug_DrugBank_target, how='left', on='drugbank_id')\n",
    "drug.rename(columns={'Gene':'gene_drugbank'}, inplace=True)\n",
    "drug['gene_drugbank']=drug['gene_drugbank'].apply(lambda x: [] if type(x) is float else x)"
   ]
  },
  {
   "cell_type": "code",
   "execution_count": 17,
   "metadata": {},
   "outputs": [],
   "source": [
    "#Merge target genes from TTD\n",
    "drug_TTD_target=pd.read_csv(external_data_path+'drug/drug_TTD_target.csv')\n",
    "drug_TTD_target['TTD_TARGETS']=drug_TTD_target['TTD_TARGETS'].apply(lambda x: re.split(',|;', x))\n",
    "drug=pd.merge(drug, drug_TTD_target.loc[:,['TTD_TARGETS', 'cid']],how='left', on='cid')\n",
    "drug.rename(columns={'TTD_TARGETS':'gene_ttd'}, inplace=True)\n",
    "drug['gene_ttd']=drug['gene_ttd'].apply(lambda x: [] if type(x) is float else x)\n"
   ]
  },
  {
   "cell_type": "code",
   "execution_count": 18,
   "metadata": {},
   "outputs": [],
   "source": [
    "#Merge target genes from LINC\n",
    "drug_lincs_target=pd.read_csv(external_data_path+'drug/drug_lincs_target.csv')\n",
    "drug_lincs_target['target_genes']=drug_lincs_target['target_genes'].apply(lambda x: x.split(',') if type(x) is not float else [])\n",
    "drug=pd.merge(drug, drug_lincs_target.loc[:, ['target_genes', 'cid']], how='left', on='cid')\n",
    "drug.rename(columns={'target_genes':'gene_linc'}, inplace=True)"
   ]
  },
  {
   "cell_type": "code",
   "execution_count": 19,
   "metadata": {},
   "outputs": [],
   "source": [
    "#Combine target genes \n",
    "drug['gene']=drug.apply(lambda row: list(set(row['gene_drugbank']+row['gene_ttd']+row['gene_linc'])), axis=1)"
   ]
  },
  {
   "cell_type": "code",
   "execution_count": 20,
   "metadata": {},
   "outputs": [],
   "source": [
    "#Gene mapping\n",
    "unique_genes_drug=[l for lst in drug['gene'].aggregate(list).values for l in lst]"
   ]
  },
  {
   "cell_type": "markdown",
   "metadata": {},
   "source": [
    "# Cell line information"
   ]
  },
  {
   "cell_type": "code",
   "execution_count": 48,
   "metadata": {},
   "outputs": [],
   "source": [
    "cell_line=pd.read_csv(data_path+'cell_line.csv')"
   ]
  },
  {
   "cell_type": "code",
   "execution_count": 49,
   "metadata": {},
   "outputs": [],
   "source": [
    "# error correction\n",
    "cell_line.replace({'large_intestine':'colon'}, inplace=True)"
   ]
  },
  {
   "cell_type": "code",
   "execution_count": 50,
   "metadata": {},
   "outputs": [],
   "source": [
    "cell_line.drop('id',axis=1, inplace=True)\n",
    "cell_line['cell_id']=cell_line['name'].apply(lambda x: codes['cell'].item2idx.get(x))"
   ]
  },
  {
   "cell_type": "code",
   "execution_count": 51,
   "metadata": {},
   "outputs": [],
   "source": [
    "#subset of cell line features\n",
    "cell_line_tissue = cell_line.loc[~cell_line['cell_id'].isna(), ['cell_id', 'tissue_name', 'disease_name']]\n",
    "cell_line_tissue['cell_id']=cell_line_tissue['cell_id'].astype(int)\n",
    "cell_line_tissue=cell_line_tissue.groupby('cell_id').first()"
   ]
  },
  {
   "cell_type": "code",
   "execution_count": 52,
   "metadata": {},
   "outputs": [],
   "source": [
    "#tissue id to name mapping\n",
    "codes['tissue']=Mapping(cell_line_tissue['tissue_name'].unique())\n",
    "cell_line_tissue['tissue_name']=cell_line_tissue['tissue_name'].apply(lambda x: codes['tissue'].item2idx[x])\n",
    "cell_line_tissue.rename(columns={'tissue_name':'tissue_id'}, inplace=True)"
   ]
  },
  {
   "cell_type": "code",
   "execution_count": 53,
   "metadata": {},
   "outputs": [],
   "source": [
    "#disease id to name mapping\n",
    "codes['disease']=Mapping(cell_line_tissue['disease_name'].apply(lambda x: x.split(' ')[-1].lower() if type(x) is not float else '').unique())\n",
    "cell_line_tissue['disease_name']=cell_line_tissue['disease_name'].apply(lambda x: codes['disease'].item2idx[x.split(' ')[-1].lower()] if type(x) is not float else codes['disease'].item2idx[''])\n",
    "cell_line_tissue.rename(columns={'disease_name':'disease_id'},inplace=True)"
   ]
  },
  {
   "cell_type": "code",
   "execution_count": 54,
   "metadata": {},
   "outputs": [],
   "source": [
    "codes['tissue'].item2idx['haematopoietic_and_lymphoid']=1\n",
    "codes['tissue'].idx2item[1]='hem&lymp'"
   ]
  },
  {
   "cell_type": "code",
   "execution_count": 55,
   "metadata": {},
   "outputs": [
    {
     "data": {
      "text/plain": [
       "{'brain': 0,\n",
       " 'haematopoietic_and_lymphoid': 1,\n",
       " 'soft_tissue': 2,\n",
       " 'bone': 3,\n",
       " 'kidney': 4,\n",
       " 'lung': 5,\n",
       " 'breast': 6,\n",
       " 'colon': 7,\n",
       " 'prostate': 8,\n",
       " 'ovary': 9,\n",
       " 'skin': 10,\n",
       " 'endometrium': 11,\n",
       " 'pancreas': 12}"
      ]
     },
     "execution_count": 55,
     "metadata": {},
     "output_type": "execute_result"
    }
   ],
   "source": [
    "codes['tissue'].item2idx"
   ]
  },
  {
   "cell_type": "code",
   "execution_count": 56,
   "metadata": {},
   "outputs": [
    {
     "data": {
      "text/plain": [
       "{'glioblastoma': 0,\n",
       " 'lymphoma': 1,\n",
       " 'rhabdomyosarcoma': 2,\n",
       " '': 3,\n",
       " 'tumor': 4,\n",
       " 'sarcoma': 5,\n",
       " 'leukemia': 6,\n",
       " 'carcinoma': 7,\n",
       " 'adenocarcinoma': 8,\n",
       " 'melanoma': 9,\n",
       " 'myeloma': 10,\n",
       " 'astrocytoma': 11,\n",
       " 'gliosarcoma': 12,\n",
       " 'cystadenocarcinoma': 13,\n",
       " 'mesothelioma': 14}"
      ]
     },
     "execution_count": 56,
     "metadata": {},
     "output_type": "execute_result"
    }
   ],
   "source": [
    "#disease name to id mapping\n",
    "codes['disease'].item2idx"
   ]
  },
  {
   "cell_type": "code",
   "execution_count": 38,
   "metadata": {},
   "outputs": [
    {
     "data": {
      "image/png": "[encoded data removed]",
      "text/plain": [
       "<Figure size 576x360 with 1 Axes>"
      ]
     },
     "metadata": {
      "needs_background": "light"
     },
     "output_type": "display_data"
    }
   ],
   "source": [
    "#Counting number of cell lines per tissue\n",
    "tissue_cell_cnts=cell_line_tissue.groupby('tissue_id').count().sort_values(by='disease_id', ascending=False)['disease_id']\n",
    "plt.figure(figsize=(8,5))\n",
    "plt.bar([codes['tissue'].idx2item[tissue_id] for tissue_id in tissue_cell_cnts.index], tissue_cell_cnts)\n",
    "plt.xticks(rotation=90)\n",
    "plt.xlabel('tissue')\n",
    "plt.ylabel('number of cell lines')\n",
    "#plt.savefig(data_path+'tissue_num_cell.png', bbox_inches='tight', dpi=200)"
   ]
  },
  {
   "cell_type": "markdown",
   "metadata": {},
   "source": [
    "# Cell line's gene expression"
   ]
  },
  {
   "cell_type": "code",
   "execution_count": 39,
   "metadata": {},
   "outputs": [],
   "source": [
    "#Mapping\n",
    "gene_identifiers=pd.read_csv(external_data_path+'cell/gene_identifiers_latest.csv')\n",
    "cell_line_meta = pd.read_csv(external_data_path+'cell/cell_line_meta.csv')\n",
    "\n",
    "_codes={}\n",
    "_codes['gene_id2hgnc_symbol']=gene_identifiers[['gene_id', 'hgnc_symbol']].set_index('gene_id').to_dict('index')\n",
    "_codes['SANGAR_ID2cell_name']=cell_line_meta.loc[cell_line_meta['name'].isin(codes['cell'].idx2item) & ~cell_line_meta['SANGAR_ID'].isna(), ['SANGAR_ID', 'name']].set_index('SANGAR_ID').to_dict('index')"
   ]
  },
  {
   "cell_type": "code",
   "execution_count": 40,
   "metadata": {},
   "outputs": [],
   "source": [
    "#Broad institute\n",
    "fpkm_broad=pd.read_csv(external_data_path+'cell/fpkm_broad.csv')\n",
    "\n",
    "fpkm_broad=fpkm_broad.loc[fpkm_broad['model_id'].isin(_codes['SANGAR_ID2cell_name'])]#apply(lambda x: _codes['SANGAR_ID2cell_name'].get(x))\n",
    "fpkm_broad['model_id']=fpkm_broad['model_id'].apply(lambda x: codes['cell'].item2idx[_codes['SANGAR_ID2cell_name'][x]['name']])\n",
    "fpkm_broad.rename(columns={col:_codes['gene_id2hgnc_symbol'][col]['hgnc_symbol'] for col in fpkm_broad.columns[1:]}, inplace=True)\n",
    "\n",
    "fpkm_broad.rename(columns={'model_id':'cell_id'}, inplace=True)\n",
    "fpkm_broad.set_index('cell_id', inplace=True)\n"
   ]
  },
  {
   "cell_type": "code",
   "execution_count": 41,
   "metadata": {},
   "outputs": [
    {
     "data": {
      "text/plain": [
       "21732"
      ]
     },
     "execution_count": 41,
     "metadata": {},
     "output_type": "execute_result"
    }
   ],
   "source": [
    "(fpkm_broad.sum()>0).sum()"
   ]
  },
  {
   "cell_type": "code",
   "execution_count": 42,
   "metadata": {},
   "outputs": [],
   "source": [
    "#Sangar\n",
    "fpkm_sangar=pd.read_csv(external_data_path+'cell/fpkm_sangar.csv')\n",
    "\n",
    "fpkm_sangar=fpkm_sangar.loc[fpkm_sangar['model_id'].isin(_codes['SANGAR_ID2cell_name'])]#apply(lambda x: _codes['SANGAR_ID2cell_name'].get(x))\n",
    "fpkm_sangar['model_id']=fpkm_sangar['model_id'].apply(lambda x: codes['cell'].item2idx[_codes['SANGAR_ID2cell_name'][x]['name']])\n",
    "fpkm_sangar.rename(columns={col:_codes['gene_id2hgnc_symbol'][col]['hgnc_symbol'] for col in fpkm_sangar.columns[1:]}, inplace=True)\n",
    "\n",
    "fpkm_sangar.rename(columns={'model_id':'cell_id'}, inplace=True)\n",
    "fpkm_sangar.set_index('cell_id', inplace=True)\n"
   ]
  },
  {
   "cell_type": "code",
   "execution_count": 43,
   "metadata": {},
   "outputs": [
    {
     "data": {
      "text/plain": [
       "18421"
      ]
     },
     "execution_count": 43,
     "metadata": {},
     "output_type": "execute_result"
    }
   ],
   "source": [
    "(fpkm_sangar.sum()>0).sum()"
   ]
  },
  {
   "cell_type": "code",
   "execution_count": 44,
   "metadata": {},
   "outputs": [],
   "source": [
    "cell_gene_fpkm= pd.concat([fpkm_broad,fpkm_sangar], sort=True) #integrate BROAD and SANGAR\n",
    "cell_gene_fpkm=cell_gene_fpkm.loc[:,(cell_gene_fpkm.std(skipna=True)!=0)] #drop genes with std=0\n",
    "cell_gene_fpkm.fillna(0, inplace=True)\n",
    "\n",
    "cell_gene_fpkm_norm=((cell_gene_fpkm-cell_gene_fpkm.mean())/cell_gene_fpkm.std()) #z-score, gene-wise\n",
    "\n",
    "unique_genes_cell = cell_gene_fpkm_norm.columns.to_list()"
   ]
  },
  {
   "cell_type": "code",
   "execution_count": 45,
   "metadata": {},
   "outputs": [
    {
     "data": {
      "text/plain": [
       "22586"
      ]
     },
     "execution_count": 45,
     "metadata": {},
     "output_type": "execute_result"
    }
   ],
   "source": [
    "len(unique_genes_cell)"
   ]
  },
  {
   "cell_type": "markdown",
   "metadata": {},
   "source": [
    "# Integrate all genes and save pickles"
   ]
  },
  {
   "cell_type": "code",
   "execution_count": 46,
   "metadata": {},
   "outputs": [],
   "source": [
    "codes['gene']=Mapping(set(unique_genes_cell).union(set(unique_genes_drug)))"
   ]
  },
  {
   "cell_type": "code",
   "execution_count": 47,
   "metadata": {},
   "outputs": [
    {
     "data": {
      "text/plain": [
       "24342"
      ]
     },
     "execution_count": 47,
     "metadata": {},
     "output_type": "execute_result"
    }
   ],
   "source": [
    "#number of unique genes\n",
    "len(codes['gene'].idx2item)"
   ]
  },
  {
   "cell_type": "code",
   "execution_count": 48,
   "metadata": {},
   "outputs": [],
   "source": [
    "#Update drug's genes\n",
    "drug['gene_id']=drug['gene'].apply(lambda genes: [codes['gene'].item2idx[gene] for gene in genes])\n",
    "#subset of drug features\n",
    "drug[['id', 'smiles', 'fps', 'gene_id']].groupby('id').first().to_pickle(data_path+'drug_features.p')"
   ]
  },
  {
   "cell_type": "code",
   "execution_count": 49,
   "metadata": {},
   "outputs": [],
   "source": [
    "#Merge cell line's tissue, disease type with gene_id\n",
    "cell_gene = cell_gene_fpkm_norm.apply(lambda row: {codes['gene'].item2idx[gene]:row[gene] for gene in cell_gene_fpkm_norm.columns}, axis=1).reset_index()\n",
    "cell_gene.rename(columns={0:'gene_id'}, inplace=True)\n",
    "cell_gene=cell_gene.groupby('cell_id').first()\n",
    "cell_line = pd.merge(cell_line_tissue, cell_gene, how='left', on='cell_id')\n",
    "cell_line['gene_id']=cell_line['gene_id'].apply(lambda x: {} if type(x) is float else x)\n",
    "\n",
    "cell_line.to_pickle(data_path+'cell_features.p')"
   ]
  },
  {
   "cell_type": "markdown",
   "metadata": {},
   "source": [
    "Now save codes book"
   ]
  },
  {
   "cell_type": "code",
   "execution_count": 50,
   "metadata": {},
   "outputs": [],
   "source": [
    "pickle.dump(codes, open(data_path+'codes.p', 'wb'))"
   ]
  },
  {
   "cell_type": "markdown",
   "metadata": {},
   "source": [
    "# Data exploratory analysis for cell lines"
   ]
  },
  {
   "cell_type": "code",
   "execution_count": 57,
   "metadata": {},
   "outputs": [],
   "source": [
    "#Add cell line's tissue info into summary\n",
    "summary_mean['tissue']=summary_mean['cell_line_name'].apply(lambda x: cell_line_tissue.loc[x, 'tissue_id'])"
   ]
  },
  {
   "cell_type": "markdown",
   "metadata": {},
   "source": [
    "Plot number of blocks per cell line"
   ]
  },
  {
   "cell_type": "code",
   "execution_count": 53,
   "metadata": {},
   "outputs": [
    {
     "data": {
      "text/plain": [
       "Text(0, 0.5, 'number of blocks')"
      ]
     },
     "execution_count": 53,
     "metadata": {},
     "output_type": "execute_result"
    },
    {
     "data": {
      "image/png": "[encoded data removed]",
      "text/plain": [
       "<Figure size 1440x432 with 1 Axes>"
      ]
     },
     "metadata": {
      "needs_background": "light"
     },
     "output_type": "display_data"
    }
   ],
   "source": [
    "cell_line_exp=summary_mean.groupby('cell_line_name').count()['drug_row'].sort_values(ascending=False)\n",
    "\n",
    "plt.figure(figsize=(20,6))\n",
    "plt.bar([codes['cell'].idx2item[cell_id]\n",
    "         +'('+codes['tissue'].idx2item[cell_line_tissue.loc[cell_id, 'tissue_id']]\n",
    "         +')' for cell_id in cell_line_exp.index], cell_line_exp)\n",
    "plt.xticks(rotation=90)\n",
    "plt.xlabel('cell line')\n",
    "plt.ylabel('number of blocks')"
   ]
  },
  {
   "cell_type": "markdown",
   "metadata": {},
   "source": [
    "Plot number of blocks per tissue\n"
   ]
  },
  {
   "cell_type": "code",
   "execution_count": 54,
   "metadata": {},
   "outputs": [
    {
     "data": {
      "image/png": "[encoded data removed]",
      "text/plain": [
       "<Figure size 432x288 with 1 Axes>"
      ]
     },
     "metadata": {
      "needs_background": "light"
     },
     "output_type": "display_data"
    }
   ],
   "source": [
    "tissue_exp=summary_mean.groupby('tissue').count()['drug_row'].sort_values(ascending=False)\n",
    "\n",
    "plt.bar([codes['tissue'].idx2item[tissue_id] for tissue_id in tissue_exp.index], tissue_exp)\n",
    "plt.xticks(rotation=90)\n",
    "plt.xlabel('tissue')\n",
    "plt.ylabel('number of drug combinations')\n",
    "#plt.savefig(data_path+'tissue_num_comb.png', bbox_inches='tight', dpi=200)"
   ]
  },
  {
   "cell_type": "markdown",
   "metadata": {},
   "source": [
    "Plot number of blocks per study&tissue"
   ]
  },
  {
   "cell_type": "code",
   "execution_count": 184,
   "metadata": {},
   "outputs": [],
   "source": [
    "study_ids=['', 'ONEIL','CLOUD','ALMANAC','FORCINA','NCATS_ATL','Mathews','NCATS_DIPG','NCATS_ES(FAKi/AURKi)','NCATS_ES(Nampt+PARP)','Wilson','NCATS_HL','Yohe','NCATS_2D_3D','Phelan','NCATS_MDR_CS','CCLE','CTRPv2','FIMM','gCSI','GDSC1','GRAY','UHNBreast','BEATAML'] #from study.csv\n",
    "num_blocks=summary_mean.groupby(['study_id', 'tissue'], as_index=False)['drug_row'].count().rename(columns={'drug_row':'num_blocks'})\n",
    "num_blocks['tissue']=num_blocks['tissue'].apply(lambda x: codes['tissue'].idx2item[x])\n",
    "num_blocks['study_id']=num_blocks['study_id'].apply(lambda x: study_ids[x])\n",
    "\n",
    "num_blocks_pivot=num_blocks.pivot(\"study_id\", \"tissue\", \"num_blocks\").fillna(0)\n",
    "num_blocks_pivot=num_blocks_pivot.loc[['ALMANAC', 'CLOUD', 'NCATS_HL', 'FORCINA','Mathews','Wilson','Yohe','NCATS_MDR_CS','Phelan','NCATS_ATL','NCATS_2D_3D',\n",
    "                      'NCATS_DIPG', 'NCATS_ES(FAKi/AURKi)',\n",
    "                      'NCATS_ES(Nampt+PARP)','ONEIL'],\n",
    "                     ['brain','breast','colon','endometrium','hem&lymp','kidney','lung','ovary',\n",
    "                     'bone','prostate']]\n"
   ]
  },
  {
   "cell_type": "code",
   "execution_count": 186,
   "metadata": {},
   "outputs": [
    {
     "data": {
      "image/png": "[encoded data removed]",
      "text/plain": [
       "<Figure size 432x288 with 2 Axes>"
      ]
     },
     "metadata": {},
     "output_type": "display_data"
    }
   ],
   "source": [
    "log_norm=LogNorm(vmin=num_blocks_pivot.min().min()+1, vmax=num_blocks_pivot.max().max())\n",
    "cbar_ticks = [math.pow(10, i) for i in range(math.floor(math.log10(num_blocks_pivot.min().min()+1)), 1+math.ceil(math.log10(num_blocks_pivot.max().max())))]\n",
    "\n",
    "cmap = sns.cubehelix_palette(light=1, as_cmap=True)\n",
    "\n",
    "ax=sns.heatmap(num_blocks_pivot.replace(0,1),\n",
    "           norm=log_norm,\n",
    "            cbar_kws={'ticks':cbar_ticks},\n",
    "            cmap=cmap)\n",
    "\n",
    "#fig=ax.get_figure()\n",
    "#fig.tight_layout()\n",
    "#fig.savefig(data_path+'study_heatmap.png', dpi=200)"
   ]
  },
  {
   "cell_type": "markdown",
   "metadata": {},
   "source": [
    "Counts number of unique drugs for each tissue"
   ]
  },
  {
   "cell_type": "code",
   "execution_count": 55,
   "metadata": {},
   "outputs": [],
   "source": [
    "#list unique drugs per tissue\n",
    "tissue_drugs = pd.merge(summary_mean.groupby('tissue')['drug_row'].apply(set).reset_index(name='drug_row'),\n",
    "         summary_mean.groupby('tissue')['drug_col'].apply(set).reset_index(name='drug_row'),\n",
    "         on='tissue')\n",
    "tissue_drugs['drugs']=tissue_drugs.apply(lambda row: row[1].union(row[2]), axis=1)\n",
    "tissue_drugs.drop(['drug_row_x','drug_row_y'], axis=1, inplace=True)"
   ]
  },
  {
   "cell_type": "code",
   "execution_count": 56,
   "metadata": {},
   "outputs": [],
   "source": [
    "tissue_drugs['num_drugs']=tissue_drugs['drugs'].apply(lambda x: len(x))\n",
    "tissue_drugs.sort_values('num_drugs', ascending=False, inplace=True)"
   ]
  },
  {
   "cell_type": "code",
   "execution_count": 58,
   "metadata": {},
   "outputs": [
    {
     "data": {
      "image/png": "[encoded data removed]",
      "text/plain": [
       "<Figure size 432x288 with 1 Axes>"
      ]
     },
     "metadata": {
      "needs_background": "light"
     },
     "output_type": "display_data"
    }
   ],
   "source": [
    "plt.bar([codes['tissue'].idx2item[tissue_id] for tissue_id in tissue_drugs['tissue']], tissue_drugs['num_drugs'])\n",
    "plt.xticks(rotation=90)\n",
    "plt.xlabel('tissue')\n",
    "plt.ylabel('number of unique drugs')\n",
    "#plt.savefig(data_path+'tissue_num_drugs.png', bbox_inches='tight', dpi=200)"
   ]
  },
  {
   "cell_type": "markdown",
   "metadata": {},
   "source": [
    "Count number of shared drugs between tissues"
   ]
  },
  {
   "cell_type": "code",
   "execution_count": 60,
   "metadata": {},
   "outputs": [
    {
     "data": {
      "image/png": "[encoded data removed]",
      "text/plain": [
       "<Figure size 432x288 with 2 Axes>"
      ]
     },
     "metadata": {
      "needs_background": "light"
     },
     "output_type": "display_data"
    }
   ],
   "source": [
    "num_intersects=np.zeros((len(tissue_drugs),len(tissue_drugs)))\n",
    "for i, tissue_id in enumerate(tissue_drugs['tissue']):    \n",
    "    num_intersects[i,:]=tissue_drugs['drugs'].apply(lambda x: len(x.intersection(tissue_drugs.loc[tissue_id, 'drugs']))).values\n",
    "\n",
    "\n",
    "fig,ax=plt.subplots()\n",
    "im=ax.imshow(num_intersects)\n",
    "ax.tick_params(top=True, bottom=False, labeltop=True, labelbottom=False)\n",
    "ax.set_xticks(np.arange(len(tissue_drugs)))\n",
    "ax.set_yticks(np.arange(len(tissue_drugs)))\n",
    "ax.set_xticklabels([codes['tissue'].idx2item[tissue_id] for tissue_id in tissue_drugs['tissue']])\n",
    "ax.set_yticklabels([codes['tissue'].idx2item[tissue_id] for tissue_id in tissue_drugs['tissue']])\n",
    "\n",
    "fig.colorbar(im, ax=ax)\n",
    "\n",
    "plt.setp(ax.get_xticklabels(), rotation=90)\n",
    "#fig.tight_layout()\n",
    "#plt.savefig(data_path+'heatmap.png', bb_inches='tight', dpi=200)"
   ]
  }
 ],
 "metadata": {
  "kernelspec": {
   "display_name": "Python 3",
   "language": "python",
   "name": "python3"
  },
  "language_info": {
   "codemirror_mode": {
    "name": "ipython",
    "version": 3
   },
   "file_extension": ".py",
   "mimetype": "text/x-python",
   "name": "python",
   "nbconvert_exporter": "python",
   "pygments_lexer": "ipython3",
   "version": "3.7.4"
  }
 },
 "nbformat": 4,
 "nbformat_minor": 2
}
